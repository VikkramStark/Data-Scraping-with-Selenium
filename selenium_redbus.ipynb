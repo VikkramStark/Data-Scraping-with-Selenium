{
 "cells": [
  {
   "cell_type": "code",
   "execution_count": null,
   "id": "b7aaa8fb-3b5d-4bc2-9530-2697e8d3543a",
   "metadata": {},
   "outputs": [],
   "source": [
    "# %pip install selenium"
   ]
  },
  {
   "cell_type": "code",
   "execution_count": null,
   "id": "65c5952d-f666-4129-9a28-4e043f66052f",
   "metadata": {},
   "outputs": [],
   "source": [
    "#importing libraries\n",
    "from selenium import webdriver\n",
    "from selenium.webdriver import ActionChains\n",
    "from selenium.webdriver.common.by import By\n",
    "from selenium.webdriver.common.keys import Keys\n",
    "from selenium.common.exceptions import TimeoutException, NoSuchElementException\n",
    "import time\n",
    "from selenium.webdriver.support.ui import WebDriverWait\n",
    "from selenium.webdriver.support import expected_conditions as EC\n",
    "import pandas as pd"
   ]
  },
  {
   "cell_type": "code",
   "execution_count": null,
   "id": "f38cca5d-b3c0-4d57-a81c-ed7fb0b19bcc",
   "metadata": {},
   "outputs": [],
   "source": [
    "#open the browser for KERALA\n",
    "\n",
    "driver=webdriver.Chrome()\n",
    "\n",
    "#load the webpage\n",
    "\n",
    "driver.get(\"https://www.redbus.in/online-booking/ksrtc-kerala/?utm_source=rtchometile\")\n",
    "\n",
    "time.sleep(3)\n",
    "\n",
    "driver.maximize_window()"
   ]
  },
  {
   "cell_type": "code",
   "execution_count": null,
   "id": "c356de37-aa99-4179-aa90-21b392c7379b",
   "metadata": {},
   "outputs": [],
   "source": [
    "#retrive  bus links and route\n",
    "wait = WebDriverWait(driver, 20)\n",
    "def Kerala_link_route(path):   \n",
    "    LINKS_KERALA=[]\n",
    "    ROUTE_KERALA=[]\n",
    "    # retrive the route links \n",
    "    for i in range(1,3):\n",
    "        paths=driver.find_elements(By.XPATH,path)\n",
    "        \n",
    "        for links in paths:\n",
    "            d = links.get_attribute(\"href\")\n",
    "            LINKS_KERALA.append(d)\n",
    "            \n",
    "        # retrive names of the routes\n",
    "        for route in paths:\n",
    "            ROUTE_KERALA.append(route.text)\n",
    "            \n",
    "        try:\n",
    "            # Wait for the pagination element to be present\n",
    "            pagination = wait.until(EC.presence_of_element_located((By.XPATH, '//*[@class=\"DC_117_paginationTable\"]')))\n",
    "            next_button = pagination.find_element(By.XPATH, f'//div[@class=\"DC_117_pageTabs \" and text()={i+1}]')\n",
    "            time.sleep(3)\n",
    "            next_button.click()\n",
    "            \n",
    "        except NoSuchElementException:\n",
    "            print(f\"No more pages to paginate at step {i}\")\n",
    "            break\n",
    "            \n",
    "    return LINKS_KERALA,ROUTE_KERALA\n",
    "\n",
    "LINKS_KERALA,ROUTE_KERALA=Kerala_link_route(\"//a[@class='route']\")"
   ]
  },
  {
   "cell_type": "code",
   "execution_count": null,
   "id": "59a3205a-d296-44c0-aff5-d52fd8c8bb5e",
   "metadata": {},
   "outputs": [],
   "source": [
    "df_k=pd.DataFrame({\"Route_name\":ROUTE_KERALA,\"Route_link\":LINKS_KERALA})\n",
    "df_k"
   ]
  },
  {
   "cell_type": "code",
   "execution_count": null,
   "id": "792a6c2f-92f8-4c43-af22-2b4929e533f1",
   "metadata": {},
   "outputs": [],
   "source": [
    "# change dataframe to csv\n",
    "path=r\"./redbus/df_k.csv\"\n",
    "df_k.to_csv(path,index=False)"
   ]
  },
  {
   "cell_type": "code",
   "execution_count": null,
   "id": "c987ce42-f7a3-430d-ac92-dcfbb9ffdeec",
   "metadata": {},
   "outputs": [],
   "source": [
    "#open the browser for ANDHRA\n",
    "\n",
    "driver_A=webdriver.Chrome()\n",
    "\n",
    "#load the webpage\n",
    "driver_A.get(\"https://www.redbus.in/online-booking/apsrtc/?utm_source=rtchometile\")\n",
    "\n",
    "time.sleep(3)\n",
    "\n",
    "driver_A.maximize_window()\n"
   ]
  },
  {
   "cell_type": "code",
   "execution_count": null,
   "id": "8765ef36-e92e-4ea9-bc6e-4a641693ff9d",
   "metadata": {},
   "outputs": [],
   "source": [
    "#retrive  bus links and route\n",
    "wait = WebDriverWait(driver_A, 20)\n",
    "def Andhra_link_route(path):   \n",
    "    LINKS_ANDHRA=[]\n",
    "    ROUTE_ANDHRA=[]\n",
    "    # retrive the route links \n",
    "    for i in range(1,5):\n",
    "        paths=driver_A.find_elements(By.XPATH,path)\n",
    "        \n",
    "        for links in paths:\n",
    "            d = links.get_attribute(\"href\")\n",
    "            LINKS_ANDHRA.append(d)\n",
    "            \n",
    "        # retrive names of the routes\n",
    "        for route in paths:\n",
    "            ROUTE_ANDHRA.append(route.text)\n",
    "            \n",
    "        try:\n",
    "            # Wait for the pagination element to be present\n",
    "            pagination = wait.until(EC.presence_of_element_located((By.XPATH, '//*[@class=\"DC_117_paginationTable\"]')))\n",
    "            next_button = pagination.find_element(By.XPATH, f'//div[@class=\"DC_117_pageTabs \" and text()={i+1}]')\n",
    "            time.sleep(3)\n",
    "            next_button.click()\n",
    "            \n",
    "        except NoSuchElementException:\n",
    "            print(f\"No more pages to paginate at step {i}\")\n",
    "            break\n",
    "            \n",
    "    return LINKS_ANDHRA,ROUTE_ANDHRA\n",
    "\n",
    "LINKS_ANDHRA,ROUTE_ANDHRA=Andhra_link_route(\"//a[@class='route']\")"
   ]
  },
  {
   "cell_type": "code",
   "execution_count": null,
   "id": "6c5a8080-92a6-49eb-82f7-5151b98bc1ba",
   "metadata": {},
   "outputs": [],
   "source": [
    "df_A=pd.DataFrame({\"Route_name\":ROUTE_ANDHRA,\"Route_link\":LINKS_ANDHRA})\n",
    "df_A"
   ]
  },
  {
   "cell_type": "code",
   "execution_count": null,
   "id": "39486a7c-37cf-4617-8860-f62b7189afa7",
   "metadata": {},
   "outputs": [],
   "source": [
    "# change dataframe to csv\n",
    "path=r\"./redbus/df_A.csv\"\n",
    "df_A.to_csv(path,index=False)"
   ]
  },
  {
   "cell_type": "code",
   "execution_count": null,
   "id": "5d91cd4d-84d2-455d-b2ae-585e92c9560d",
   "metadata": {},
   "outputs": [],
   "source": [
    "#open the browser for TELUNGANA\n",
    "\n",
    "driver_T=webdriver.Chrome()\n",
    "\n",
    "#load the webpage\n",
    "driver_T.get(\"https://www.redbus.in/online-booking/tsrtc/?utm_source=rtchometile\")\n",
    "\n",
    "time.sleep(3)\n",
    "\n",
    "driver_T.maximize_window()"
   ]
  },
  {
   "cell_type": "code",
   "execution_count": null,
   "id": "00874c9e-84b5-492e-a859-a43e7e6a9bdc",
   "metadata": {},
   "outputs": [],
   "source": [
    "#retrive bus links and route\n",
    "wait = WebDriverWait(driver_T, 20)\n",
    "def Telugana_link_route(path):   \n",
    "    LINKS_TELUGANA=[]\n",
    "    ROUTE_TELUGANA=[]\n",
    "    \n",
    "    for i in range(1,4):\n",
    "        paths=driver_T.find_elements(By.XPATH,path)\n",
    "        # retrive the route links \n",
    "        for links in paths:\n",
    "            d = links.get_attribute(\"href\")\n",
    "            LINKS_TELUGANA.append(d)\n",
    "            \n",
    "        # retrive names of the routes\n",
    "        for route in paths:\n",
    "            ROUTE_TELUGANA.append(route.text)\n",
    "            \n",
    "        try:\n",
    "            # Wait for the pagination element to be present\n",
    "            pagination = wait.until(EC.presence_of_element_located((By.XPATH, '//*[@class=\"DC_117_paginationTable\"]')))\n",
    "            next_button = pagination.find_element(By.XPATH, f'//div[@class=\"DC_117_pageTabs \" and text()={i+1}]')\n",
    "            time.sleep(3)\n",
    "            next_button.click()\n",
    "            \n",
    "        except NoSuchElementException:\n",
    "            print(f\"No more pages to paginate at step {i}\")\n",
    "            break\n",
    "            \n",
    "    return LINKS_TELUGANA,ROUTE_TELUGANA\n",
    "\n",
    "LINKS_TELUGANA,ROUTE_TELUGANA=Telugana_link_route(\"//a[@class='route']\")"
   ]
  },
  {
   "cell_type": "code",
   "execution_count": null,
   "id": "fea24d95-fb2a-4263-afba-fe72fc5eda76",
   "metadata": {},
   "outputs": [],
   "source": [
    "df_T=pd.DataFrame({\"Route_name\":ROUTE_TELUGANA,\"Route_link\":LINKS_TELUGANA})\n",
    "df_T"
   ]
  },
  {
   "cell_type": "code",
   "execution_count": null,
   "id": "f8bbc819-439b-47b2-93a0-e1136d92fafb",
   "metadata": {},
   "outputs": [],
   "source": [
    "# change dataframe to csv\n",
    "path=r\"./redbus/df_T.csv\"\n",
    "df_T.to_csv(path,index=False)"
   ]
  },
  {
   "cell_type": "code",
   "execution_count": null,
   "id": "a2203c1b-0e52-407e-a51f-062384fbf9cf",
   "metadata": {},
   "outputs": [],
   "source": [
    "#open the browser for GOA\n",
    "\n",
    "driver_G=webdriver.Chrome()\n",
    "\n",
    "#load the webpage\n",
    "driver_G.get(\"https://www.redbus.in/online-booking/ktcl/?utm_source=rtchometile\")\n",
    "\n",
    "time.sleep(3)\n",
    "\n",
    "driver_G.maximize_window()"
   ]
  },
  {
   "cell_type": "code",
   "execution_count": null,
   "id": "35599828-6b69-46db-8b8c-5e821ec0b1e5",
   "metadata": {},
   "outputs": [],
   "source": [
    "#retrive bus links and route\n",
    "wait = WebDriverWait(driver_G, 20)\n",
    "def Kadamba_link_route(path):   \n",
    "    LINKS_KADAMBA=[]\n",
    "    ROUTE_KADAMBA=[]\n",
    "    \n",
    "    for i in range(1,4):\n",
    "        paths=driver_G.find_elements(By.XPATH,path)\n",
    "        # retrive the route links \n",
    "        for links in paths:\n",
    "            d = links.get_attribute(\"href\")\n",
    "            LINKS_KADAMBA.append(d)\n",
    "            \n",
    "        # retrive names of the routes\n",
    "        for route in paths:\n",
    "            ROUTE_KADAMBA.append(route.text)\n",
    "            \n",
    "        try:\n",
    "            # Wait for the pagination element to be present\n",
    "            pagination = wait.until(EC.presence_of_element_located((By.XPATH, '//*[@class=\"DC_117_paginationTable\"]')))\n",
    "            next_button = pagination.find_element(By.XPATH, f'//div[@class=\"DC_117_pageTabs \" and text()={i+1}]')\n",
    "            time.sleep(3)\n",
    "            next_button.click()\n",
    "            \n",
    "        except NoSuchElementException:\n",
    "            print(f\"No more pages to paginate at step {i}\")\n",
    "            break\n",
    "            \n",
    "    return LINKS_KADAMBA,ROUTE_KADAMBA\n",
    "\n",
    "LINKS_KADAMBA,ROUTE_KADAMBA=Kadamba_link_route(\"//a[@class='route']\")"
   ]
  },
  {
   "cell_type": "code",
   "execution_count": null,
   "id": "6dfcd883-407c-4ae6-b7db-7966870c12e1",
   "metadata": {},
   "outputs": [],
   "source": [
    "df_G=pd.DataFrame({\"Route_name\":ROUTE_KADAMBA,\"Route_link\":LINKS_KADAMBA})\n",
    "df_G"
   ]
  },
  {
   "cell_type": "code",
   "execution_count": null,
   "id": "013303fc-b947-427f-91f9-17150606f413",
   "metadata": {},
   "outputs": [],
   "source": [
    "# change dataframe to csv\n",
    "ath=r\"./redbus/df_G.csv\"\n",
    "df_G.to_csv(path,index=False)"
   ]
  },
  {
   "cell_type": "code",
   "execution_count": null,
   "id": "b1dcfc77-46b8-479d-875c-8c4318faf776",
   "metadata": {},
   "outputs": [],
   "source": [
    "#open the browser for RAJASTHAN\n",
    "\n",
    "driver_R=webdriver.Chrome()\n",
    "\n",
    "#load the webpage\n",
    "driver_R.get(\"https://www.redbus.in/online-booking/rsrtc/?utm_source=rtchometile\")\n",
    "\n",
    "time.sleep(3)\n",
    "\n",
    "driver_R.maximize_window()"
   ]
  },
  {
   "cell_type": "code",
   "execution_count": null,
   "id": "dce1fb3e-b261-4d53-ac01-0788865eb980",
   "metadata": {},
   "outputs": [],
   "source": [
    "#retrive bus links and route\n",
    "wait = WebDriverWait(driver_R, 20)\n",
    "def Rajastan_link_route(path):   \n",
    "    LINKS_RAJASTAN=[]\n",
    "    ROUTE_RAJASTAN=[]\n",
    "    \n",
    "    for i in range(1,4):\n",
    "        paths=driver_R.find_elements(By.XPATH,path)\n",
    "        # retrive the route links \n",
    "        for links in paths:\n",
    "            d = links.get_attribute(\"href\")\n",
    "            LINKS_RAJASTAN.append(d)\n",
    "            \n",
    "        # retrive names of the routes\n",
    "        for route in paths:\n",
    "            ROUTE_RAJASTAN.append(route.text)\n",
    "            \n",
    "        try:\n",
    "            # Wait for the pagination element to be present\n",
    "            pagination = wait.until(EC.presence_of_element_located((By.XPATH, '//*[@class=\"DC_117_paginationTable\"]')))\n",
    "            next_button = pagination.find_element(By.XPATH, f'//div[@class=\"DC_117_pageTabs \" and text()={i+1}]')\n",
    "            time.sleep(3)\n",
    "            next_button.click()\n",
    "            \n",
    "        except NoSuchElementException:\n",
    "            print(f\"No more pages to paginate at step {i}\")\n",
    "            break\n",
    "            \n",
    "    return LINKS_RAJASTAN,ROUTE_RAJASTAN\n",
    "\n",
    "LINKS_RAJASTAN,ROUTE_RAJASTAN=Rajastan_link_route(\"//a[@class='route']\")"
   ]
  },
  {
   "cell_type": "code",
   "execution_count": null,
   "id": "fecd25a8-d4c0-46df-a630-d47fd10c247e",
   "metadata": {},
   "outputs": [],
   "source": [
    "df_R=pd.DataFrame({\"Route_name\":ROUTE_RAJASTAN,\"Route_link\":LINKS_RAJASTAN})\n",
    "df_R"
   ]
  },
  {
   "cell_type": "code",
   "execution_count": null,
   "id": "1ddcd2d5-0d3a-4bf8-afe6-0199c02b60f1",
   "metadata": {},
   "outputs": [],
   "source": [
    "# change dataframe to csv\n",
    "path=r\"./redbus/df_R.csv\"\n",
    "df_R.to_csv(path,index=False)"
   ]
  },
  {
   "cell_type": "code",
   "execution_count": null,
   "id": "ecf31e54-3da6-4fe9-a5b6-49829e91e119",
   "metadata": {},
   "outputs": [],
   "source": [
    "#open the browser for SOUTHBENGAL\n",
    "\n",
    "driver_SB=webdriver.Chrome()\n",
    "\n",
    "#load the webpage\n",
    "\n",
    "driver_SB.get(\"https://www.redbus.in/online-booking/south-bengal-state-transport-corporation-sbstc/?utm_source=rtchometile\")\n",
    "\n",
    "time.sleep(3)\n",
    "\n",
    "driver_SB.maximize_window()"
   ]
  },
  {
   "cell_type": "code",
   "execution_count": null,
   "id": "8c8ebd0b-e115-4471-bf84-efa5621ba8e4",
   "metadata": {},
   "outputs": [],
   "source": [
    "#retrive bus links and route\n",
    "wait = WebDriverWait(driver_SB, 20)\n",
    "def Southbengal_link_route(path):   \n",
    "    LINKS_SOUTHBENGAL=[]\n",
    "    ROUTE_SOUTHBENGAL=[]\n",
    "    \n",
    "    for i in range(1,6):\n",
    "        paths=driver_SB.find_elements(By.XPATH,path)\n",
    "        # retrive the route links \n",
    "        for links in paths:\n",
    "            d = links.get_attribute(\"href\")\n",
    "            LINKS_SOUTHBENGAL.append(d)\n",
    "            \n",
    "        # retrive names of the routes\n",
    "        for route in paths:\n",
    "            ROUTE_SOUTHBENGAL.append(route.text)\n",
    "            \n",
    "        try:\n",
    "            # Wait for the pagination element to be present\n",
    "            pagination = wait.until(EC.presence_of_element_located((By.XPATH, '//*[@class=\"DC_117_paginationTable\"]')))\n",
    "            next_button = pagination.find_element(By.XPATH, f'//div[@class=\"DC_117_pageTabs \" and text()={i+1}]')\n",
    "            time.sleep(3)\n",
    "            next_button.click()\n",
    "            \n",
    "        except NoSuchElementException:\n",
    "            print(f\"No more pages to paginate at step {i}\")\n",
    "            break\n",
    "            \n",
    "    return LINKS_SOUTHBENGAL,ROUTE_SOUTHBENGAL\n",
    "\n",
    "LINKS_SOUTHBENGAL,ROUTE_SOUTHBENGAL=Southbengal_link_route(\"//a[@class='route']\")"
   ]
  },
  {
   "cell_type": "code",
   "execution_count": null,
   "id": "f74f3d7a-86f8-4d31-b812-d8e123b42abb",
   "metadata": {},
   "outputs": [],
   "source": [
    "df_SB=pd.DataFrame({\"Route_name\":ROUTE_SOUTHBENGAL,\"Route_link\":LINKS_SOUTHBENGAL})\n",
    "df_SB"
   ]
  },
  {
   "cell_type": "code",
   "execution_count": null,
   "id": "0612f2ab-f3e8-4e3f-90da-f7b5334ad698",
   "metadata": {},
   "outputs": [],
   "source": [
    "# change dataframe to csv\n",
    "path=r\"./redbus/df_SB.csv\"\n",
    "df_SB.to_csv(path,index=False)"
   ]
  },
  {
   "cell_type": "code",
   "execution_count": null,
   "id": "0597162f-d877-4e1e-b6a4-19629c9df82d",
   "metadata": {},
   "outputs": [],
   "source": [
    "#open the browser for HARYANA\n",
    "\n",
    "driver_H=webdriver.Chrome()\n",
    "\n",
    "#load the webpage\n",
    "\n",
    "driver_H.get(\"https://www.redbus.in/online-booking/hrtc/?utm_source=rtchometile\")\n",
    "\n",
    "time.sleep(3)\n",
    "\n",
    "driver_H.maximize_window()"
   ]
  },
  {
   "cell_type": "code",
   "execution_count": null,
   "id": "3da651c5-3183-47cd-93da-bd200297cb28",
   "metadata": {},
   "outputs": [],
   "source": [
    "#retrive bus links and route\n",
    "wait = WebDriverWait(driver_H, 20)\n",
    "def Haryana_link_route(path):   \n",
    "    LINKS_HARYANA=[]\n",
    "    ROUTE_HARYANA=[]\n",
    "    \n",
    "    for i in range(1,6):\n",
    "        paths=driver_H.find_elements(By.XPATH,path)\n",
    "        # retrive the route links \n",
    "        for links in paths:\n",
    "            d = links.get_attribute(\"href\")\n",
    "            LINKS_HARYANA.append(d)\n",
    "            \n",
    "        # retrive names of the routes\n",
    "        for route in paths:\n",
    "            ROUTE_HARYANA.append(route.text)\n",
    "            \n",
    "        try:\n",
    "            # Wait for the pagination element to be present\n",
    "            pagination = wait.until(EC.presence_of_element_located((By.XPATH, '//*[@class=\"DC_117_paginationTable\"]')))\n",
    "            next_button = pagination.find_element(By.XPATH, f'//div[@class=\"DC_117_pageTabs \" and text()={i+1}]')\n",
    "            time.sleep(3)\n",
    "            next_button.click()\n",
    "            \n",
    "        except NoSuchElementException:\n",
    "            print(f\"No more pages to paginate at step {i}\")\n",
    "            break\n",
    "            \n",
    "    return LINKS_HARYANA,ROUTE_HARYANA\n",
    "\n",
    "LINKS_HARYANA,ROUTE_HARYANA=Haryana_link_route(\"//a[@class='route']\")"
   ]
  },
  {
   "cell_type": "code",
   "execution_count": null,
   "id": "3b896656-66de-4e44-8e47-b48bd0c0ef1e",
   "metadata": {},
   "outputs": [],
   "source": [
    "df_H=pd.DataFrame({\"Route_name\":ROUTE_HARYANA,\"Route_link\":LINKS_HARYANA})\n",
    "df_H"
   ]
  },
  {
   "cell_type": "code",
   "execution_count": null,
   "id": "d289a04b-21a4-490f-b67a-8cea4ba17321",
   "metadata": {},
   "outputs": [],
   "source": [
    "# change dataframe to csv\n",
    "path=r\"./redbus/df_H.csv\"\n",
    "df_H.to_csv(path,index=False)"
   ]
  },
  {
   "cell_type": "code",
   "execution_count": null,
   "id": "8f68e315-0f5f-4aed-b61d-dadf459063da",
   "metadata": {},
   "outputs": [],
   "source": [
    "#open the browser for ASSAM\n",
    "\n",
    "driver_AS=webdriver.Chrome()\n",
    "\n",
    "#load the webpage\n",
    "\n",
    "driver_AS.get(\"https://www.redbus.in/online-booking/astc/?utm_source=rtchometile\")\n",
    "\n",
    "time.sleep(3)\n",
    "\n",
    "driver_AS.maximize_window()"
   ]
  },
  {
   "cell_type": "code",
   "execution_count": null,
   "id": "a6b348df-fa5a-48e4-b95a-641dc91955ad",
   "metadata": {},
   "outputs": [],
   "source": [
    "#retrive bus links and route\n",
    "wait = WebDriverWait(driver_AS, 20)\n",
    "def Assam_link_route(path):   \n",
    "    LINKS_ASSAM=[]\n",
    "    ROUTE_ASSAM=[]\n",
    "    \n",
    "    for i in range(1,5):\n",
    "        paths=driver_AS.find_elements(By.XPATH,path)\n",
    "        # retrive the route links \n",
    "        for links in paths:\n",
    "            d = links.get_attribute(\"href\")\n",
    "            LINKS_ASSAM.append(d)\n",
    "            \n",
    "        # retrive names of the routes\n",
    "        for route in paths:\n",
    "            ROUTE_ASSAM.append(route.text)\n",
    "            \n",
    "        try:\n",
    "            # Wait for the pagination element to be present\n",
    "            pagination = wait.until(EC.presence_of_element_located((By.XPATH, '//*[@class=\"DC_117_paginationTable\"]')))\n",
    "            next_button = pagination.find_element(By.XPATH, f'//div[@class=\"DC_117_pageTabs \" and text()={i+1}]')\n",
    "            time.sleep(3)\n",
    "            next_button.click()\n",
    "            \n",
    "        except NoSuchElementException:\n",
    "            print(f\"No more pages to paginate at step {i}\")\n",
    "            break\n",
    "            \n",
    "    return LINKS_ASSAM,ROUTE_ASSAM\n",
    "\n",
    "LINKS_ASSAM,ROUTE_ASSAM=Assam_link_route(\"//a[@class='route']\")"
   ]
  },
  {
   "cell_type": "code",
   "execution_count": null,
   "id": "25e80f14-07c4-498a-a2c0-832e2a29922c",
   "metadata": {},
   "outputs": [],
   "source": [
    "df_AS=pd.DataFrame({\"Route_name\":ROUTE_ASSAM,\"Route_link\":LINKS_ASSAM})\n",
    "df_AS"
   ]
  },
  {
   "cell_type": "code",
   "execution_count": null,
   "id": "a0cc1819-b58f-4eff-a920-a343444deafc",
   "metadata": {},
   "outputs": [],
   "source": [
    "# change dataframe to csv\n",
    "path=r\"./redbus/df_AS.csv\"\n",
    "df_AS.to_csv(path,index=False)"
   ]
  },
  {
   "cell_type": "code",
   "execution_count": null,
   "id": "296448d6-d76e-49e2-9303-f344190db7b7",
   "metadata": {},
   "outputs": [],
   "source": [
    "#open the browser for UP\n",
    "\n",
    "driver_UP=webdriver.Chrome()\n",
    "\n",
    "#load the webpage\n",
    "\n",
    "driver_UP.get(\"https://www.redbus.in/online-booking/uttar-pradesh-state-road-transport-corporation-upsrtc/?utm_source=rtchometile\")\n",
    "\n",
    "time.sleep(3)\n",
    "\n",
    "driver_UP.maximize_window()"
   ]
  },
  {
   "cell_type": "code",
   "execution_count": null,
   "id": "eee89fa3-10d3-44ed-a37a-3235146ddd85",
   "metadata": {},
   "outputs": [],
   "source": [
    "#retrive bus links and route\n",
    "wait = WebDriverWait(driver_UP, 20)\n",
    "def UP_link_route(path):   \n",
    "    LINKS_UP=[]\n",
    "    ROUTE_UP=[]\n",
    "    \n",
    "    for i in range(1,6):\n",
    "        paths=driver_UP.find_elements(By.XPATH,path)\n",
    "        # retrive the route links \n",
    "        for links in paths:\n",
    "            d = links.get_attribute(\"href\")\n",
    "            LINKS_UP.append(d)\n",
    "            \n",
    "        # retrive names of the routes\n",
    "        for route in paths:\n",
    "            ROUTE_UP.append(route.text)\n",
    "            \n",
    "        try:\n",
    "            # Wait for the pagination element to be present\n",
    "            pagination = wait.until(EC.presence_of_element_located((By.XPATH, '//*[@class=\"DC_117_paginationTable\"]')))\n",
    "            next_button = pagination.find_element(By.XPATH, f'//div[@class=\"DC_117_pageTabs \" and text()={i+1}]')\n",
    "            time.sleep(3)\n",
    "            next_button.click()\n",
    "            \n",
    "        except NoSuchElementException:\n",
    "            print(f\"No more pages to paginate at step {i}\")\n",
    "            break\n",
    "            \n",
    "    return LINKS_UP,ROUTE_UP\n",
    "\n",
    "LINKS_UP,ROUTE_UP=UP_link_route(\"//a[@class='route']\")"
   ]
  },
  {
   "cell_type": "code",
   "execution_count": null,
   "id": "7d4929ab-70fa-4ab4-bd42-652826794c93",
   "metadata": {},
   "outputs": [],
   "source": [
    "df_UP=pd.DataFrame({\"Route_name\":ROUTE_UP,\"Route_link\":LINKS_UP})\n",
    "df_UP"
   ]
  },
  {
   "cell_type": "code",
   "execution_count": null,
   "id": "7c5ca66c-cea3-47a7-a24b-6003b60a9d68",
   "metadata": {},
   "outputs": [],
   "source": [
    "# change dataframe to csv\n",
    "path=r\"./redbus/df_UP.csv\"\n",
    "df_UP.to_csv(path,index=False)"
   ]
  },
  {
   "cell_type": "code",
   "execution_count": null,
   "id": "33e8f480-b5b2-445a-b792-4561916557e9",
   "metadata": {},
   "outputs": [],
   "source": [
    "#open the browser for WESTBENGAL\n",
    "\n",
    "driver_WB=webdriver.Chrome()\n",
    "\n",
    "#load the webpage\n",
    "\n",
    "driver_WB.get(\"https://www.redbus.in/online-booking/wbtc-ctc/?utm_source=rtchometile\")\n",
    "\n",
    "time.sleep(3)\n",
    "\n",
    "driver_WB.maximize_window()"
   ]
  },
  {
   "cell_type": "code",
   "execution_count": null,
   "id": "21dd3691-66d7-49c3-beb0-a6c9bed317e9",
   "metadata": {},
   "outputs": [],
   "source": [
    "#retrive bus links and route\n",
    "wait = WebDriverWait(driver_WB, 20)\n",
    "def Westbengal_link_route(path):   \n",
    "    LINKS_WESTBENGAL=[]\n",
    "    ROUTE_WESTBENGAL=[]\n",
    "    \n",
    "    for i in range(1,6):\n",
    "        paths=driver_WB.find_elements(By.XPATH,path)\n",
    "        # retrive the route links \n",
    "        for links in paths:\n",
    "            d = links.get_attribute(\"href\")\n",
    "            LINKS_WESTBENGAL.append(d)\n",
    "            \n",
    "        # retrive names of the routes\n",
    "        for route in paths:\n",
    "            ROUTE_WESTBENGAL.append(route.text)\n",
    "            \n",
    "        try:\n",
    "            # Wait for the pagination element to be present\n",
    "            pagination = wait.until(EC.presence_of_element_located((By.XPATH, '//*[@class=\"DC_117_paginationTable\"]')))\n",
    "            next_button = pagination.find_element(By.XPATH, f'//div[@class=\"DC_117_pageTabs \" and text()={i+1}]')\n",
    "            time.sleep(3)\n",
    "            next_button.click()\n",
    "            \n",
    "        except NoSuchElementException:\n",
    "            print(f\"No more pages to paginate at step {i}\")\n",
    "            break\n",
    "            \n",
    "    return LINKS_WESTBENGAL,ROUTE_WESTBENGAL\n",
    "\n",
    "LINKS_WESTBENGAL,ROUTE_WESTBENGAL=Westbengal_link_route(\"//a[@class='route']\")"
   ]
  },
  {
   "cell_type": "code",
   "execution_count": null,
   "id": "802e24b2-cb4d-4cbc-9440-9040a88ef325",
   "metadata": {},
   "outputs": [],
   "source": [
    "df_WB=pd.DataFrame({\"Route_name\":ROUTE_WESTBENGAL,\"Route_link\":LINKS_WESTBENGAL})\n",
    "df_WB"
   ]
  },
  {
   "cell_type": "code",
   "execution_count": null,
   "id": "3bac5a0c-bb66-44dd-86a0-b493f61de963",
   "metadata": {},
   "outputs": [],
   "source": [
    "# change dataframe to csv\n",
    "path=r\"./redbus/df_WB.csv\"\n",
    "df_WB.to_csv(path,index=False)"
   ]
  },
  {
   "cell_type": "code",
   "execution_count": null,
   "id": "9fcc02ed-e8db-4e5f-ad0f-cf0e0785d4f3",
   "metadata": {},
   "outputs": [],
   "source": [
    "# concat all the bus link and route names in one dataframe\n",
    "df=pd.concat([df_k,df_A,df_T,df_G,df_R,df_H,df_SB,df_AS,df_UP,df_WB],ignore_index=True)\n",
    "df"
   ]
  },
  {
   "cell_type": "code",
   "execution_count": null,
   "id": "68bd819c-fbaf-4c91-b6d8-7a43a7e4e4b5",
   "metadata": {},
   "outputs": [],
   "source": [
    "# change dataframe to csv\n",
    "path=r\"./redbus/df_route.csv\"\n",
    "df.to_csv(path,index=False)"
   ]
  }
 ],
 "metadata": {
  "kernelspec": {
   "display_name": "Python 3 (ipykernel)",
   "language": "python",
   "name": "python3"
  },
  "language_info": {
   "codemirror_mode": {
    "name": "ipython",
    "version": 3
   },
   "file_extension": ".py",
   "mimetype": "text/x-python",
   "name": "python",
   "nbconvert_exporter": "python",
   "pygments_lexer": "ipython3",
   "version": "3.11.7"
  }
 },
 "nbformat": 4,
 "nbformat_minor": 5
}
